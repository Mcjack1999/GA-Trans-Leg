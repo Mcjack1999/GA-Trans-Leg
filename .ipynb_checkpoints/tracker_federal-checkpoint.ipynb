{
 "cells": [
  {
   "cell_type": "code",
   "execution_count": null,
   "id": "41c78e15-a38e-4259-897b-e0fc41a38d21",
   "metadata": {},
   "outputs": [],
   "source": [
    "!which python"
   ]
  },
  {
   "cell_type": "code",
   "execution_count": null,
   "id": "c467262f-ca3d-42e7-acbf-31c4666d0a46",
   "metadata": {},
   "outputs": [],
   "source": [
    "# import the following libraries for our web scraping project\n",
    "\n",
    "import requests # to make https requests\n",
    "from bs4 import BeautifulSoup # our web scraping library\n",
    "\n",
    "import pandas as pd # for making dataframe later"
   ]
  },
  {
   "cell_type": "code",
   "execution_count": null,
   "id": "0cf51cca-7d24-42e1-932e-a98be0712621",
   "metadata": {},
   "outputs": [],
   "source": [
    "# save the data from the website as a \"soup\" object\n",
    "\n",
    "site = requests.get('https://translegislation.com/bills/2024/US') # gets the URL\n",
    "html_code = site.content # saves the HTML code\n",
    "soup = BeautifulSoup(html_code, 'lxml') # creates a soup object"
   ]
  },
  {
   "cell_type": "code",
   "execution_count": null,
   "id": "c393673d-926b-4e9f-a4db-e13122faeceb",
   "metadata": {},
   "outputs": [],
   "source": [
    "# runs the loop on the bill cards\n",
    "bill_cards = soup.find_all('div', class_ ='css-4rck61')\n",
    "\n",
    "# creating empty lists to hold all of our data\n",
    "titles = []\n",
    "captions = []\n",
    "categories = []\n",
    "descriptions = []\n",
    "\n",
    "# extracting the data from the bill cards\n",
    "for item in bill_cards:\n",
    "    title = item.h3.text\n",
    "    category = item.find('span').text\n",
    "    caption = item.h2.text\n",
    "    if item.h2.text is not None:\n",
    "        description = item.h2.text\n",
    "    else:\n",
    "        description = 'No bill description'\n",
    "    \n",
    "    # adding the items to the empty lists\n",
    "    titles.append(title)\n",
    "    categories.append(category)\n",
    "    captions.append(caption)\n",
    "    descriptions.append(description)\n",
    "    # remember that \"legiscan_links\" is already saved as a list, so we don't have to create it here"
   ]
  },
  {
   "cell_type": "code",
   "execution_count": null,
   "id": "b297397e-598d-4d61-b603-aa397ba135e9",
   "metadata": {},
   "outputs": [],
   "source": [
    "urls24 = []\n",
    "for item in bill_cards:\n",
    "    extension = 'https://translegislation.com/' + item.a['href']\n",
    "    urls24.append(extension)\n",
    "\n",
    "# making a soup object of *every* page that is linked\n",
    "# this may take several seconds\n",
    "soups = []\n",
    "for item in urls24:\n",
    "    site = requests.get(item)\n",
    "    html_code = site.content\n",
    "    soup = BeautifulSoup(html_code, 'lxml')\n",
    "    soups.append(soup)\n",
    "\n",
    "\n",
    "legiscan_links = []\n",
    "congress_links = []\n",
    "for item in soups:\n",
    "    # we are getting two links here, one to legiscan and one to the congress website\n",
    "    links = item.find_all('a', class_='chakra-link css-oga2ct')\n",
    "    anchor1 = links[0]['href'] # link to legiscan\n",
    "    legiscan_links.append(anchor1)\n",
    "    anchor2 = links[1]['href'] # link to congress\n",
    "    congress_links.append(anchor2)"
   ]
  },
  {
   "cell_type": "code",
   "execution_count": null,
   "id": "2f8744eb-ddd2-457e-b84f-1d8d7712558a",
   "metadata": {},
   "outputs": [],
   "source": [
    "# creating a dataframe, with separate columns to hold each of our lists\n",
    "df24 = pd.DataFrame(\n",
    "    {'title': titles,\n",
    "     'caption': captions,\n",
    "     'category': categories,\n",
    "     'description': descriptions,\n",
    "     'url': urls24,\n",
    "     'legiscan': legiscan_links,\n",
    "     'congress': congress_links\n",
    "    })"
   ]
  },
  {
   "cell_type": "code",
   "execution_count": null,
   "id": "206313f8-52cb-497f-8e5b-8ae98a11c36a",
   "metadata": {},
   "outputs": [],
   "source": [
    "df24.info()"
   ]
  },
  {
   "cell_type": "code",
   "execution_count": null,
   "id": "a7861fa4-f2a8-41a9-b684-209339f41aa3",
   "metadata": {},
   "outputs": [],
   "source": [
    "df24.head()"
   ]
  },
  {
   "cell_type": "code",
   "execution_count": null,
   "id": "cb1fdc7c-7bea-4339-a831-ccfb749f28a1",
   "metadata": {},
   "outputs": [],
   "source": [
    "import os\n",
    "\n",
    "# Get the current working directory\n",
    "current_directory = os.getcwd()\n",
    "print(\"Current Directory:\", current_directory)"
   ]
  },
  {
   "cell_type": "code",
   "execution_count": null,
   "id": "8e5bc636-bc7a-4384-af35-8da8115e170c",
   "metadata": {},
   "outputs": [],
   "source": [
    "df24.to_csv('/Users/michaelajackson/Desktop/Antitrans/GA-Trans-Leg/2024CSV')"
   ]
  },
  {
   "cell_type": "code",
   "execution_count": null,
   "id": "8f1aa7cb-36a0-46c2-9723-c433db9c25f9",
   "metadata": {},
   "outputs": [],
   "source": [
    "#restarting the process for 2025\n",
    "site25 = requests.get('https://translegislation.com/bills/2025/US') # gets the URL\n",
    "html_code25 = site25.content # saves the HTML code\n",
    "soup25 = BeautifulSoup(html_code25, 'lxml') # creates a soup object"
   ]
  },
  {
   "cell_type": "code",
   "execution_count": null,
   "id": "903893fd-265b-49a6-98c2-a8e33a0828be",
   "metadata": {},
   "outputs": [],
   "source": [
    "# runs the loop on the bill cards\n",
    "bill_cards25 = soup25.find_all('div', class_ ='css-4rck61')\n",
    "\n",
    "# creating empty lists to hold all of our data\n",
    "titles25 = []\n",
    "captions25 = []\n",
    "categories25 = []\n",
    "descriptions25 = []\n",
    "\n",
    "# extracting the data from the bill cards\n",
    "for item in bill_cards25:\n",
    "    title25 = item.h3.text\n",
    "    category25 = item.find('span').text\n",
    "    caption25 = item.h2.text\n",
    "    if item.h2.text is not None:\n",
    "        description25 = item.h2.text\n",
    "    else:\n",
    "        description25 = 'No bill description'\n",
    "    \n",
    "    # adding the items to the empty lists\n",
    "    titles25.append(title25)\n",
    "    categories25.append(category25)\n",
    "    captions25.append(caption25)\n",
    "    descriptions25.append(description25)\n",
    "    # remember that \"legiscan_links\" is already saved as a list, so we don't have to create it here"
   ]
  },
  {
   "cell_type": "code",
   "execution_count": null,
   "id": "121f0ad2-919d-4259-a501-e16f5e4852be",
   "metadata": {},
   "outputs": [],
   "source": [
    "urls25 = []\n",
    "for item in bill_cards25:\n",
    "    extension25 = 'https://translegislation.com/' + item.a['href']\n",
    "    urls25.append(extension25)\n",
    "\n",
    "# making a soup object of *every* page that is linked\n",
    "# this may take several seconds\n",
    "soups25 = []\n",
    "for item in urls25:\n",
    "    site25 = requests.get(item)\n",
    "    html_code25 = site25.content\n",
    "    soup25 = BeautifulSoup(html_code25, 'lxml')\n",
    "    soups25.append(soup25)\n",
    "\n",
    "legiscan_links25 = []\n",
    "for item in soups25:\n",
    "    # we are getting two links here, one to legiscan and one to the congress website and adding if statement for bills with no links\n",
    "    links25 = item.find_all('a', class_='chakra-link css-oga2ct')\n",
    "    # Default values\n",
    "  #  legiscan_link = \"Not available\"\n",
    "  #  congress_link = \"Not available\"\n",
    "    \n",
    "    # Check each link\n",
    " #   for link in links25:\n",
    "   #     href = link.get('href', '')\n",
    "        # If it’s a Legiscan link\n",
    "   #     if \"legiscan.com\" in href:\n",
    "   #         legiscan_link = href\n",
    "        # If it’s a Congress link\n",
    "   #     elif \"congress.gov\" in href:\n",
    "    #         congress_link = href\n",
    "\n",
    "    # legiscan_links.append(legiscan_link)\n",
    "    # congress_links.append(congress_link)"
   ]
  },
  {
   "cell_type": "code",
   "execution_count": null,
   "id": "5ec95dcb-9b61-4282-b38b-ad1e81704579",
   "metadata": {},
   "outputs": [],
   "source": [
    "for item in links25:\n",
    "    print(links25)"
   ]
  },
  {
   "cell_type": "code",
   "execution_count": null,
   "id": "f273658e-eb3b-42e0-863e-7fcf6c2bdce0",
   "metadata": {},
   "outputs": [],
   "source": [
    "len(links25)"
   ]
  },
  {
   "cell_type": "code",
   "execution_count": null,
   "id": "12f55caf-89f9-441e-b626-898e9e219d9b",
   "metadata": {},
   "outputs": [],
   "source": [
    "congress_links25 = []\n",
    "\n",
    "for item in soups25:\n",
    "    links25 = item.find_all('a', class_='chakra-link css-oga2ct')\n",
    "    for link in links25:\n",
    "        href = link.get(\"href\")\n",
    "        if href and \"congress.gov\" in href:\n",
    "            congress_links25.append(href)\n",
    "\n",
    "print(len(congress_links25))"
   ]
  },
  {
   "cell_type": "code",
   "execution_count": null,
   "id": "b7a374c8-5470-44b5-94b1-40543060b52d",
   "metadata": {},
   "outputs": [],
   "source": [
    "print(congress_links25)"
   ]
  },
  {
   "cell_type": "code",
   "execution_count": null,
   "id": "546380a4-1f63-4c79-b69e-06e341f91505",
   "metadata": {},
   "outputs": [],
   "source": [
    "# creating a dataframe, with separate columns to hold each of our lists\n",
    "df25 = pd.DataFrame(\n",
    "    {'title': titles25,\n",
    "     'caption': captions25,\n",
    "     'category': categories25,\n",
    "     'description': descriptions25,\n",
    "     'url': urls25,\n",
    "     'congress': congress_links25\n",
    "    })"
   ]
  },
  {
   "cell_type": "code",
   "execution_count": null,
   "id": "dacc71db-42a3-4d6f-ae0b-2960ee7b8e4f",
   "metadata": {},
   "outputs": [],
   "source": [
    "df25.info()"
   ]
  },
  {
   "cell_type": "code",
   "execution_count": null,
   "id": "1174ba24-dc11-4cd0-976d-657d7a832fcc",
   "metadata": {},
   "outputs": [],
   "source": [
    "df25.head()"
   ]
  },
  {
   "cell_type": "code",
   "execution_count": null,
   "id": "823568fb-b607-4de2-8829-beedb62655f8",
   "metadata": {},
   "outputs": [],
   "source": [
    "df25.to_csv('/Users/michaelajackson/Desktop/Antitrans/GA-Trans-Leg/2025CSV')"
   ]
  },
  {
   "cell_type": "code",
   "execution_count": null,
   "id": "e74de918-4940-438b-a2e8-2c4fc493163c",
   "metadata": {},
   "outputs": [],
   "source": [
    "df24.drop('legiscan', axis=1, inplace=True)"
   ]
  },
  {
   "cell_type": "code",
   "execution_count": null,
   "id": "ea66f4cd-d4a7-406a-9cde-6f868cdfb321",
   "metadata": {},
   "outputs": [],
   "source": [
    "#combining both dfs into 1\n",
    "df_combined = pd.concat([df24, df25], ignore_index=True)"
   ]
  },
  {
   "cell_type": "code",
   "execution_count": null,
   "id": "329017ae-ffaf-41f7-a126-ab19a72a5531",
   "metadata": {},
   "outputs": [],
   "source": [
    "df_combined.head()"
   ]
  },
  {
   "cell_type": "code",
   "execution_count": null,
   "id": "53b7fade-64e1-4e59-8d49-de547e574ffb",
   "metadata": {},
   "outputs": [],
   "source": [
    "#creating new column named \"session\" that pulls the congress session number (either 118 or 119) from the urls in congress column\n",
    "import re\n",
    "\n",
    "# Function to extract the Congress session from a URL\n",
    "def extract_session(url):\n",
    "    match = re.search(r'/(\\d+)(?:th)?-congress/', url)\n",
    "    return int(match.group(1)) if match else None"
   ]
  },
  {
   "cell_type": "code",
   "execution_count": null,
   "id": "f67785f3-172a-45df-b8dc-61317de69257",
   "metadata": {},
   "outputs": [],
   "source": [
    "df_combined['session'] = df_combined['congress'].apply(extract_session)"
   ]
  },
  {
   "cell_type": "code",
   "execution_count": null,
   "id": "8e387114-4a18-44ac-bf74-b6d5742c1c2e",
   "metadata": {},
   "outputs": [],
   "source": [
    "print(df_combined['session'].unique())"
   ]
  },
  {
   "cell_type": "code",
   "execution_count": null,
   "id": "401c5b1b-5cb1-446e-b4c0-bf34f61a8326",
   "metadata": {},
   "outputs": [],
   "source": [
    "#sorting values by session number in congress url\n",
    "df_combined.sort_values(by='session', ascending=True, inplace=True)\n",
    "df_combined.tail()"
   ]
  },
  {
   "cell_type": "code",
   "execution_count": null,
   "id": "bc4fe9c3-34c8-423d-bf2e-22aac2f2d1c4",
   "metadata": {},
   "outputs": [],
   "source": [
    "#Government website has bot blocks to the code in the block does not work\n",
    "\n",
    "# Create a new column with \"/all-info\" replaced by \"/text\"\n",
    "#df_combined['text'] = df_combined['congress'].str.replace('/all-info', '/text/is?format=txt', regex=False)\n",
    "\n",
    "#print(df_combined['text'][30])\n",
    "\n",
    "#df_combined.info()\n",
    "\n",
    "#df_combined.head()\n",
    "\n",
    "#creating function for extracting text from links in text cloumn\n",
    "\n",
    "#def extract_text(url):\n",
    "   # try:\n",
    "   #     sitetext = requests.get(url) # gets the URL\n",
    "   #     html_codetext = sitetext.content # saves the HTML code\n",
    "   #     souptext = BeautifulSoup(html_codetext, 'lxml') # creates a soup object\n",
    "\n",
    "# Find the <pre> tag containing the bill text\n",
    "     #   bill_text = souptext.find('pre', {'id': 'billTextContainer'})\n",
    "        \n",
    "      #  return bill_text.get_text(strip=True) if bill_text else \"Bill text not found\"\n",
    "  #  except requests.RequestException as e:\n",
    "      #  return f\"Error: {e}\"  # Handle request errors for sites with pdfs instead of html\n",
    "\n",
    "#df_combined['bill_text'] = df_combined['text'].apply(extract_text)"
   ]
  },
  {
   "cell_type": "code",
   "execution_count": null,
   "id": "ae558c46-35bb-4724-956c-f46929c79bd6",
   "metadata": {},
   "outputs": [],
   "source": [
    "df_combined.sample(20)"
   ]
  },
  {
   "cell_type": "code",
   "execution_count": null,
   "id": "7b5361c2-ca47-4c0c-ae9c-932d38eb832e",
   "metadata": {},
   "outputs": [],
   "source": [
    "df_combined.info()"
   ]
  },
  {
   "cell_type": "code",
   "execution_count": null,
   "id": "86f154cf-1ca6-45a7-8910-93503cf9724c",
   "metadata": {},
   "outputs": [],
   "source": [
    "df_combined['congress'].duplicated().sum()"
   ]
  },
  {
   "cell_type": "code",
   "execution_count": null,
   "id": "f3d2606a-b905-4158-901a-3fc5cae92be3",
   "metadata": {},
   "outputs": [],
   "source": [
    "df_combined.loc[110, 'congress']"
   ]
  },
  {
   "cell_type": "code",
   "execution_count": null,
   "id": "00998d20-3f77-4084-b7f3-97d4ab0c3872",
   "metadata": {},
   "outputs": [],
   "source": [
    "# extract the number and put into a separate list for urls later\n",
    "numbers = []\n",
    "for row in df_combined['title']:\n",
    "    splitted = row.split()\n",
    "    for item in splitted:\n",
    "        numeric_part = ''.join(filter(str.isdigit, item))\n",
    "        if numeric_part:\n",
    "            numbers.append(numeric_part)\n"
   ]
  },
  {
   "cell_type": "code",
   "execution_count": null,
   "id": "64840c89-4094-4127-a763-046b33b0df7e",
   "metadata": {
    "scrolled": true
   },
   "outputs": [],
   "source": [
    "len(numbers)"
   ]
  },
  {
   "cell_type": "code",
   "execution_count": null,
   "id": "dd978be4-9519-440c-94d1-b9d88fcbf0cb",
   "metadata": {},
   "outputs": [],
   "source": [
    "numbers[:10]"
   ]
  },
  {
   "cell_type": "code",
   "execution_count": null,
   "id": "dc1cdab8-ce90-4e2d-85a2-e4778f4629f9",
   "metadata": {},
   "outputs": [],
   "source": [
    "df_combined['bill_num'] = numbers"
   ]
  },
  {
   "cell_type": "code",
   "execution_count": null,
   "id": "94b79f11-5805-46a8-ac9e-8884fc9069bf",
   "metadata": {},
   "outputs": [],
   "source": [
    "df_combined.sample(6)"
   ]
  },
  {
   "cell_type": "code",
   "execution_count": null,
   "id": "ae1ff29f-1eec-468d-a510-cc9135b20990",
   "metadata": {},
   "outputs": [],
   "source": [
    "#house vs senate resolution\n",
    "bill_type = []\n",
    "bill_type = df_combined['congress'].str.extract(r'(house-bill|senate-bill|house-resolution|senate-resolution)', expand=False)"
   ]
  },
  {
   "cell_type": "code",
   "execution_count": null,
   "id": "19df3904-85ce-469b-8886-1bca34e87425",
   "metadata": {},
   "outputs": [],
   "source": [
    "df_combined['bill_type'] = bill_type"
   ]
  },
  {
   "cell_type": "code",
   "execution_count": null,
   "id": "0cdb85e2-4dd0-4ce4-83a7-c79ab460454f",
   "metadata": {},
   "outputs": [],
   "source": [
    "missing_types = df_combined[df_combined['bill_type'].isnull()]\n",
    "missing_types"
   ]
  },
  {
   "cell_type": "code",
   "execution_count": null,
   "id": "7f50c019-19c1-49cf-bfde-c9808ae6a85c",
   "metadata": {},
   "outputs": [],
   "source": [
    "pd.set_option('display.max_colwidth', None)"
   ]
  },
  {
   "cell_type": "code",
   "execution_count": null,
   "id": "a987f165-8bb3-47a3-9c02-bf78b06c7937",
   "metadata": {},
   "outputs": [],
   "source": [
    "#manually entering missing bill types\n",
    "\n",
    "df_combined.loc[56, 'bill_type'] = 'house-joint-resolution'\n",
    "df_combined.loc[55, 'bill_type'] = 'house-joint-resolution'\n",
    "df_combined.loc[84, 'bill_type'] = 'senate-joint-resolution'\n",
    "df_combined.loc[83, 'bill_type'] = 'senate-joint-resolution'"
   ]
  },
  {
   "cell_type": "code",
   "execution_count": null,
   "id": "b6683266-d45e-464f-878e-eb92f266da90",
   "metadata": {},
   "outputs": [],
   "source": [
    "map_code = {\n",
    "    'house-bill': 'hr',\n",
    "    'senate-bill': 's',\n",
    "    'house-resolution': 'hres',\n",
    "    'senate-resolution': 'sres',\n",
    "    'house-joint-resolution': 'hjres',\n",
    "    'senate-joint-resolution': 'sjres'\n",
    "}"
   ]
  },
  {
   "cell_type": "code",
   "execution_count": null,
   "id": "72621c0c-9288-4f4c-95c7-77acd91f5d5f",
   "metadata": {},
   "outputs": [],
   "source": [
    "df_combined['bill_code'] = df_combined['bill_type'].map(map_code)"
   ]
  },
  {
   "cell_type": "code",
   "execution_count": null,
   "id": "dce83df6-132b-41c4-852d-f4e044e6732f",
   "metadata": {},
   "outputs": [],
   "source": [
    "missing_codes = df_combined[df_combined['bill_code'].isnull()]\n",
    "missing_codes"
   ]
  },
  {
   "cell_type": "code",
   "execution_count": null,
   "id": "494a467b-c1b4-4457-bd65-5adb90806a9f",
   "metadata": {},
   "outputs": [],
   "source": [
    "\n",
    "def xml_links(numbers, sessions, bill_code):\n",
    "    urls = []\n",
    "    for num, session, code in zip(numbers, sessions, bill_code):\n",
    "            suffix = 'ih' if code.startswith('h') else 'is'\n",
    "            url = f'https://www.congress.gov/{session}/bills/{code}{num}/BILLS-{session}{code}{num}{suffix}.xml'\n",
    "                #example- https://www.congress.gov/119/bills/hr1015/BILLS-119hr1015ih.xml\n",
    "                #example- https://www.congress.gov/119/bills/hres157/BILLS-119hres157ih.xml\n",
    "                #example- https://www.congress.gov/119/bills/s209/BILLS-119s209is.xml\n",
    "                #example- https://www.congress.gov/119/bills/sres22/BILLS-119sres22is.xml\n",
    "\n",
    "            try:\n",
    "                response = requests.get(url)\n",
    "                if response.status_code == 200:\n",
    "                    urls.append(url)\n",
    "                else:\n",
    "                    urls.append(None)\n",
    "            except:\n",
    "                urls.append(None)\n",
    "            \n",
    "    return urls"
   ]
  },
  {
   "cell_type": "code",
   "execution_count": null,
   "id": "14859bf4-d6dd-4930-b1c5-5c8877a9afac",
   "metadata": {},
   "outputs": [],
   "source": [
    "urls = xml_links(\n",
    "    df_combined['bill_num'],\n",
    "    df_combined['session'],\n",
    "    df_combined['bill_code']\n",
    ")"
   ]
  },
  {
   "cell_type": "code",
   "execution_count": null,
   "id": "ae0dec81-f5c3-4f75-96c5-8f63227ae20d",
   "metadata": {},
   "outputs": [],
   "source": [
    "assert len(urls) == len(df_combined)"
   ]
  },
  {
   "cell_type": "code",
   "execution_count": null,
   "id": "5fd35252-cb23-486a-a48d-f1927d90f59e",
   "metadata": {},
   "outputs": [],
   "source": [
    "#applying above\n",
    "df_combined['xml_url'] = urls"
   ]
  },
  {
   "cell_type": "code",
   "execution_count": null,
   "id": "dc25dcbd-921e-492f-81a0-bf8c0a0737b0",
   "metadata": {},
   "outputs": [],
   "source": [
    "df_combined.head()"
   ]
  },
  {
   "cell_type": "code",
   "execution_count": null,
   "id": "2060b3a4-b42e-4eae-90e8-0fe729b4ed57",
   "metadata": {},
   "outputs": [],
   "source": [
    "df_combined['xml_url'].isnull().sum()"
   ]
  },
  {
   "cell_type": "code",
   "execution_count": null,
   "id": "9e4afecc-20c9-4a97-89d2-d00bbe9b8934",
   "metadata": {},
   "outputs": [],
   "source": [
    "missing_urls = df_combined[df_combined['xml_url'].isnull()]\n",
    "missing_urls"
   ]
  },
  {
   "cell_type": "code",
   "execution_count": null,
   "id": "3370e646-edc6-4248-8a88-5e607a8de9c6",
   "metadata": {},
   "outputs": [],
   "source": [
    "#manually replacing missing urls\n",
    "#As of 03/28/2025 text has not been received for H.R.2197 or H.R. 2202\n",
    "df_combined.loc[40, 'xml_url'] = 'https://www.congress.gov/118/bills/hr8580/BILLS-118hr8580pcs.xml'\n",
    "df_combined.loc[42, 'xml_url'] = 'https://www.congress.gov/118/bills/hr8752/BILLS-118hr8752eh.xml'\n",
    "df_combined.loc[43, 'xml_url'] = 'https://www.congress.gov/118/bills/hr8771/BILLS-118hr8771pcs.xml'\n",
    "df_combined.loc[44, 'xml_url'] = 'https://www.congress.gov/118/bills/hr8774/BILLS-118hr8774pcs.xml'\n",
    "df_combined.loc[47, 'xml_url'] = 'https://www.congress.gov/118/bills/hr8998/BILLS-118hr8998pcs.xml'\n",
    "df_combined.loc[48, 'xml_url'] = 'https://www.congress.gov/118/bills/hr9026/BILLS-118hr9026rh.xml'\n",
    "df_combined.loc[49, 'xml_url'] = 'https://www.congress.gov/118/bills/hr9027/BILLS-118hr9027rh.xml'\n",
    "df_combined.loc[50, 'xml_url'] = 'https://www.congress.gov/118/bills/hr9028/BILLS-118hr9028rh.xml'\n",
    "df_combined.loc[51, 'xml_url'] = 'https://www.congress.gov/118/bills/hr9029/BILLS-118hr9029rh.xml'\n",
    "df_combined.loc[46, 'xml_url'] = 'https://www.congress.gov/118/bills/hr8997/BILLS-118hr8997rh.xml'\n",
    "df_combined.loc[78, 'xml_url'] = 'https://www.congress.gov/118/bills/s4638/BILLS-118s4638rs.xml'\n",
    "df_combined.loc[61, 'xml_url'] = 'https://www.congress.gov/118/bills/hres298/BILLS-118hres298eh.xml'\n",
    "df_combined.loc[19, 'xml_url'] = 'https://www.congress.gov/118/bills/hr4367/BILLS-118hr4367eh.xml'\n",
    "df_combined.loc[18, 'xml_url'] = 'https://www.congress.gov/118/bills/hr4365/BILLS-118hr4365pcs.xml'\n",
    "df_combined.loc[21, 'xml_url'] = 'https://www.congress.gov/118/bills/hr4665/BILLS-118hr4665pcs.xml'\n",
    "df_combined.loc[22, 'xml_url'] = 'https://www.congress.gov/118/bills/hr4821/BILLS-118hr4821pcs.xml'\n",
    "df_combined.loc[119, 'xml_url'] = 'https://www.congress.gov/119/bills/s9/BILLS-119s9pcs.xml'"
   ]
  },
  {
   "cell_type": "code",
   "execution_count": null,
   "id": "7ce6850f-5f8f-463a-8cf7-01712c451207",
   "metadata": {},
   "outputs": [],
   "source": [
    "# function that contains a loop to insert bill numbers\n",
    "# into the URL, then to grab the content and add to a new list\n",
    "def scrape_bill_text(urls):\n",
    "    return [\n",
    "        requests.get(url).text if pd.notnull(url) else None\n",
    "        for url in urls]\n"
   ]
  },
  {
   "cell_type": "code",
   "execution_count": null,
   "id": "065b89f9-6e7a-4f4e-b644-3c2062208d57",
   "metadata": {},
   "outputs": [],
   "source": [
    "#checking if function works\n",
    "xml_text = scrape_bill_text(df_combined['xml_url'])"
   ]
  },
  {
   "cell_type": "code",
   "execution_count": null,
   "id": "249fa191-3d80-4585-b6e0-be95beb9e70f",
   "metadata": {},
   "outputs": [],
   "source": [
    "xml_text[0]"
   ]
  },
  {
   "cell_type": "code",
   "execution_count": null,
   "id": "9b482b2d-b1f2-4788-8b4b-b30b965bad11",
   "metadata": {},
   "outputs": [],
   "source": [
    "with open('Bill_text.txt', 'w', encoding='utf-8') as f:\n",
    "    for item in xml_text:\n",
    "        f.write(str(item) + '\\n')"
   ]
  },
  {
   "cell_type": "code",
   "execution_count": null,
   "id": "9ebd6b09-5ee3-4afe-b4aa-02c0ac0ede03",
   "metadata": {},
   "outputs": [],
   "source": [
    "#Cleaning full text "
   ]
  },
  {
   "cell_type": "code",
   "execution_count": null,
   "id": "e5c24f3f-33be-49f7-88a7-01e7c3dce6c8",
   "metadata": {},
   "outputs": [],
   "source": [
    "# loading up the texts that we just saved\n",
    "load = open('./Bill_text.txt')\n",
    "data = load.read()\n",
    "load.close()"
   ]
  },
  {
   "cell_type": "code",
   "execution_count": null,
   "id": "510b4223-7c61-4320-9c00-54e86edcbe25",
   "metadata": {},
   "outputs": [],
   "source": [
    "from bs4 import BeautifulSoup"
   ]
  },
  {
   "cell_type": "code",
   "execution_count": null,
   "id": "75b45c85-3afa-4bb9-b9d2-baea5d9de590",
   "metadata": {},
   "outputs": [],
   "source": [
    "soup = BeautifulSoup(data, 'xml')\n",
    "text_only = soup.get_text(separator=' ', strip=True)"
   ]
  },
  {
   "cell_type": "code",
   "execution_count": null,
   "id": "db2c6394-b273-4f67-9999-c676c2bc3a49",
   "metadata": {},
   "outputs": [],
   "source": [
    "# remove all the characters in the \"take out\" list by writing a\n",
    "# loop that replaces those characters with an empty character, ''\n",
    "def clean_up(text):\n",
    "    take_out = ['\\n', '/n', '\\\\n', '_', '[', ']', '<html><body><pre>', '<html><body><pre>', '  ']\n",
    "    for item in take_out:\n",
    "        if item in text:\n",
    "            text = text.replace(item, '')\n",
    "    return text\n",
    "\n",
    "\n",
    "cleaned = clean_up(text_only)"
   ]
  },
  {
   "cell_type": "code",
   "execution_count": null,
   "id": "be84d5cf-53da-465a-b4a4-6848885ea4d2",
   "metadata": {},
   "outputs": [],
   "source": [
    "del type"
   ]
  },
  {
   "cell_type": "code",
   "execution_count": null,
   "id": "9a5f18a6-ab55-4232-a192-ce13f3c416af",
   "metadata": {},
   "outputs": [],
   "source": [
    "type(cleaned)"
   ]
  },
  {
   "cell_type": "code",
   "execution_count": null,
   "id": "10c8e2a1-ec3e-4a56-a2b1-40cf93fc779f",
   "metadata": {},
   "outputs": [],
   "source": [
    "cleaned[0:3000]"
   ]
  },
  {
   "cell_type": "code",
   "execution_count": null,
   "id": "519ee6b9-b944-43d8-a2d1-1d6b90f1f112",
   "metadata": {},
   "outputs": [],
   "source": [
    "file_path = \"./cleaned_text.txt\"\n",
    "\n",
    "with open(file_path, \"w\", encoding=\"utf-8\") as f:\n",
    "    f.write(cleaned)"
   ]
  },
  {
   "cell_type": "code",
   "execution_count": null,
   "id": "2f983845-bb8f-41fb-af5f-415a8a3a0da5",
   "metadata": {},
   "outputs": [],
   "source": [
    "#word cloud visualization for common words in bill title"
   ]
  },
  {
   "cell_type": "code",
   "execution_count": null,
   "id": "f2ae1cda-ca6d-43ff-a12d-594ab71efe6e",
   "metadata": {},
   "outputs": [],
   "source": [
    "pip install wordcloud"
   ]
  },
  {
   "cell_type": "code",
   "execution_count": null,
   "id": "14f15bd0-fc00-4949-a53c-c832e378fe17",
   "metadata": {},
   "outputs": [],
   "source": [
    "from wordcloud import WordCloud\n",
    "import matplotlib.pyplot as plt\n",
    "from wordcloud import STOPWORDS"
   ]
  },
  {
   "cell_type": "code",
   "execution_count": null,
   "id": "cb216dc7-e685-4ab1-b337-dd40388b70f1",
   "metadata": {},
   "outputs": [],
   "source": [
    "wordcloud = WordCloud(\n",
    "    width=800,\n",
    "    height=400,\n",
    "    background_color='white',\n",
    "    max_words=200,\n",
    "    colormap='cool'\n",
    ").generate(cleaned)\n",
    "\n",
    "# Display it\n",
    "plt.figure(figsize=(10, 5))\n",
    "plt.imshow(wordcloud, interpolation='bilinear')\n",
    "plt.axis('off')\n",
    "plt.title(\"Word Cloud of Bill Text\")\n",
    "plt.show()"
   ]
  },
  {
   "cell_type": "code",
   "execution_count": null,
   "id": "0c2dadfe-0d8b-43d0-be89-0140c747ed5a",
   "metadata": {},
   "outputs": [],
   "source": [
    "stopwords = set(STOPWORDS)\n",
    "#May add more stopwords if needed\n",
    "stopwords.update(['section', 'act', 'shall', 'may', 'bill', 'Title', 'Federal','House','xml','Committee','Session','United','States','b',\n",
    "                  'Representatives','U','copyright','file', 'will', 'H', 'text', 'purposes', 'EN', 'Code', 'CONGRESS'])\n",
    "\n",
    "wordcloud = WordCloud(\n",
    "    width=800,\n",
    "    height=400,\n",
    "    background_color='white',\n",
    "    stopwords=stopwords,\n",
    "    max_words=200,\n",
    "    colormap='plasma'\n",
    ").generate(cleaned)\n",
    "\n",
    "plt.figure(figsize=(10, 5))\n",
    "plt.imshow(wordcloud, interpolation='bilinear')\n",
    "plt.axis('off')\n",
    "plt.title(\"Word Cloud of Bill Text\")\n",
    "plt.show()"
   ]
  },
  {
   "cell_type": "code",
   "execution_count": 1,
   "id": "9f741e80-ece2-473c-bd98-8e9653bf299d",
   "metadata": {},
   "outputs": [],
   "source": [
    "load = open('./cleaned_text.txt')\n",
    "data = load.read()\n",
    "load.close()"
   ]
  },
  {
   "cell_type": "code",
   "execution_count": 5,
   "id": "fe0e411f-a28f-400e-86f2-5b5938398971",
   "metadata": {},
   "outputs": [
    {
     "name": "stdout",
     "output_type": "stream",
     "text": [
      "Requirement already satisfied: spacy>=3.7.2 in /opt/anaconda3/lib/python3.12/site-packages (3.8.5)\n",
      "Requirement already satisfied: spacy-legacy<3.1.0,>=3.0.11 in /opt/anaconda3/lib/python3.12/site-packages (from spacy>=3.7.2) (3.0.12)\n",
      "Requirement already satisfied: spacy-loggers<2.0.0,>=1.0.0 in /opt/anaconda3/lib/python3.12/site-packages (from spacy>=3.7.2) (1.0.5)\n",
      "Requirement already satisfied: murmurhash<1.1.0,>=0.28.0 in /opt/anaconda3/lib/python3.12/site-packages (from spacy>=3.7.2) (1.0.12)\n",
      "Requirement already satisfied: cymem<2.1.0,>=2.0.2 in /opt/anaconda3/lib/python3.12/site-packages (from spacy>=3.7.2) (2.0.11)\n",
      "Requirement already satisfied: preshed<3.1.0,>=3.0.2 in /opt/anaconda3/lib/python3.12/site-packages (from spacy>=3.7.2) (3.0.9)\n",
      "Requirement already satisfied: thinc<8.4.0,>=8.3.4 in /opt/anaconda3/lib/python3.12/site-packages (from spacy>=3.7.2) (8.3.6)\n",
      "Requirement already satisfied: wasabi<1.2.0,>=0.9.1 in /opt/anaconda3/lib/python3.12/site-packages (from spacy>=3.7.2) (1.1.3)\n",
      "Requirement already satisfied: srsly<3.0.0,>=2.4.3 in /opt/anaconda3/lib/python3.12/site-packages (from spacy>=3.7.2) (2.5.1)\n",
      "Requirement already satisfied: catalogue<2.1.0,>=2.0.6 in /opt/anaconda3/lib/python3.12/site-packages (from spacy>=3.7.2) (2.0.10)\n",
      "Requirement already satisfied: weasel<0.5.0,>=0.1.0 in /opt/anaconda3/lib/python3.12/site-packages (from spacy>=3.7.2) (0.4.1)\n",
      "Requirement already satisfied: typer<1.0.0,>=0.3.0 in /opt/anaconda3/lib/python3.12/site-packages (from spacy>=3.7.2) (0.15.2)\n",
      "Requirement already satisfied: tqdm<5.0.0,>=4.38.0 in /opt/anaconda3/lib/python3.12/site-packages (from spacy>=3.7.2) (4.66.4)\n",
      "Requirement already satisfied: numpy>=1.19.0 in /opt/anaconda3/lib/python3.12/site-packages (from spacy>=3.7.2) (2.2.5)\n",
      "Requirement already satisfied: requests<3.0.0,>=2.13.0 in /opt/anaconda3/lib/python3.12/site-packages (from spacy>=3.7.2) (2.32.2)\n",
      "Requirement already satisfied: pydantic!=1.8,!=1.8.1,<3.0.0,>=1.7.4 in /opt/anaconda3/lib/python3.12/site-packages (from spacy>=3.7.2) (2.5.3)\n",
      "Requirement already satisfied: jinja2 in /opt/anaconda3/lib/python3.12/site-packages (from spacy>=3.7.2) (3.1.4)\n",
      "Requirement already satisfied: setuptools in /opt/anaconda3/lib/python3.12/site-packages (from spacy>=3.7.2) (69.5.1)\n",
      "Requirement already satisfied: packaging>=20.0 in /opt/anaconda3/lib/python3.12/site-packages (from spacy>=3.7.2) (23.2)\n",
      "Requirement already satisfied: langcodes<4.0.0,>=3.2.0 in /opt/anaconda3/lib/python3.12/site-packages (from spacy>=3.7.2) (3.5.0)\n",
      "Requirement already satisfied: language-data>=1.2 in /opt/anaconda3/lib/python3.12/site-packages (from langcodes<4.0.0,>=3.2.0->spacy>=3.7.2) (1.3.0)\n",
      "Requirement already satisfied: annotated-types>=0.4.0 in /opt/anaconda3/lib/python3.12/site-packages (from pydantic!=1.8,!=1.8.1,<3.0.0,>=1.7.4->spacy>=3.7.2) (0.6.0)\n",
      "Requirement already satisfied: pydantic-core==2.14.6 in /opt/anaconda3/lib/python3.12/site-packages (from pydantic!=1.8,!=1.8.1,<3.0.0,>=1.7.4->spacy>=3.7.2) (2.14.6)\n",
      "Requirement already satisfied: typing-extensions>=4.6.1 in /opt/anaconda3/lib/python3.12/site-packages (from pydantic!=1.8,!=1.8.1,<3.0.0,>=1.7.4->spacy>=3.7.2) (4.11.0)\n",
      "Requirement already satisfied: charset-normalizer<4,>=2 in /opt/anaconda3/lib/python3.12/site-packages (from requests<3.0.0,>=2.13.0->spacy>=3.7.2) (2.0.4)\n",
      "Requirement already satisfied: idna<4,>=2.5 in /opt/anaconda3/lib/python3.12/site-packages (from requests<3.0.0,>=2.13.0->spacy>=3.7.2) (3.7)\n",
      "Requirement already satisfied: urllib3<3,>=1.21.1 in /opt/anaconda3/lib/python3.12/site-packages (from requests<3.0.0,>=2.13.0->spacy>=3.7.2) (2.2.2)\n",
      "Requirement already satisfied: certifi>=2017.4.17 in /opt/anaconda3/lib/python3.12/site-packages (from requests<3.0.0,>=2.13.0->spacy>=3.7.2) (2024.7.4)\n",
      "Requirement already satisfied: blis<1.4.0,>=1.3.0 in /opt/anaconda3/lib/python3.12/site-packages (from thinc<8.4.0,>=8.3.4->spacy>=3.7.2) (1.3.0)\n",
      "Requirement already satisfied: confection<1.0.0,>=0.0.1 in /opt/anaconda3/lib/python3.12/site-packages (from thinc<8.4.0,>=8.3.4->spacy>=3.7.2) (0.1.5)\n",
      "Requirement already satisfied: click>=8.0.0 in /opt/anaconda3/lib/python3.12/site-packages (from typer<1.0.0,>=0.3.0->spacy>=3.7.2) (8.1.7)\n",
      "Requirement already satisfied: shellingham>=1.3.0 in /opt/anaconda3/lib/python3.12/site-packages (from typer<1.0.0,>=0.3.0->spacy>=3.7.2) (1.5.4)\n",
      "Requirement already satisfied: rich>=10.11.0 in /opt/anaconda3/lib/python3.12/site-packages (from typer<1.0.0,>=0.3.0->spacy>=3.7.2) (13.3.5)\n",
      "Requirement already satisfied: cloudpathlib<1.0.0,>=0.7.0 in /opt/anaconda3/lib/python3.12/site-packages (from weasel<0.5.0,>=0.1.0->spacy>=3.7.2) (0.21.0)\n",
      "Requirement already satisfied: smart-open<8.0.0,>=5.2.1 in /opt/anaconda3/lib/python3.12/site-packages (from weasel<0.5.0,>=0.1.0->spacy>=3.7.2) (5.2.1)\n",
      "Requirement already satisfied: MarkupSafe>=2.0 in /opt/anaconda3/lib/python3.12/site-packages (from jinja2->spacy>=3.7.2) (2.1.3)\n",
      "Requirement already satisfied: marisa-trie>=1.1.0 in /opt/anaconda3/lib/python3.12/site-packages (from language-data>=1.2->langcodes<4.0.0,>=3.2.0->spacy>=3.7.2) (1.2.1)\n",
      "Requirement already satisfied: markdown-it-py<3.0.0,>=2.2.0 in /opt/anaconda3/lib/python3.12/site-packages (from rich>=10.11.0->typer<1.0.0,>=0.3.0->spacy>=3.7.2) (2.2.0)\n",
      "Requirement already satisfied: pygments<3.0.0,>=2.13.0 in /opt/anaconda3/lib/python3.12/site-packages (from rich>=10.11.0->typer<1.0.0,>=0.3.0->spacy>=3.7.2) (2.15.1)\n",
      "Requirement already satisfied: mdurl~=0.1 in /opt/anaconda3/lib/python3.12/site-packages (from markdown-it-py<3.0.0,>=2.2.0->rich>=10.11.0->typer<1.0.0,>=0.3.0->spacy>=3.7.2) (0.1.0)\n",
      "Note: you may need to restart the kernel to use updated packages.\n"
     ]
    }
   ],
   "source": [
    "pip install \"spacy>=3.7.2\""
   ]
  },
  {
   "cell_type": "code",
   "execution_count": 7,
   "id": "b9ed4adb-e5ba-43c8-8ef5-1d76a08b3427",
   "metadata": {},
   "outputs": [
    {
     "ename": "ValueError",
     "evalue": "numpy.dtype size changed, may indicate binary incompatibility. Expected 96 from C header, got 88 from PyObject",
     "output_type": "error",
     "traceback": [
      "\u001b[0;31m---------------------------------------------------------------------------\u001b[0m",
      "\u001b[0;31mValueError\u001b[0m                                Traceback (most recent call last)",
      "Cell \u001b[0;32mIn[7], line 2\u001b[0m\n\u001b[1;32m      1\u001b[0m \u001b[38;5;66;03m# import our matcher class\u001b[39;00m\n\u001b[0;32m----> 2\u001b[0m \u001b[38;5;28;01mimport\u001b[39;00m \u001b[38;5;21;01mspacy\u001b[39;00m\n\u001b[1;32m      3\u001b[0m \u001b[38;5;28;01mfrom\u001b[39;00m \u001b[38;5;21;01mspacy\u001b[39;00m\u001b[38;5;21;01m.\u001b[39;00m\u001b[38;5;21;01mmatcher\u001b[39;00m \u001b[38;5;28;01mimport\u001b[39;00m Matcher\n",
      "File \u001b[0;32m/opt/anaconda3/lib/python3.12/site-packages/spacy/__init__.py:6\u001b[0m\n\u001b[1;32m      3\u001b[0m \u001b[38;5;28;01mfrom\u001b[39;00m \u001b[38;5;21;01mtyping\u001b[39;00m \u001b[38;5;28;01mimport\u001b[39;00m Any, Dict, Iterable, Union\n\u001b[1;32m      5\u001b[0m \u001b[38;5;66;03m# set library-specific custom warning handling before doing anything else\u001b[39;00m\n\u001b[0;32m----> 6\u001b[0m \u001b[38;5;28;01mfrom\u001b[39;00m \u001b[38;5;21;01m.\u001b[39;00m\u001b[38;5;21;01merrors\u001b[39;00m \u001b[38;5;28;01mimport\u001b[39;00m setup_default_warnings\n\u001b[1;32m      8\u001b[0m setup_default_warnings()  \u001b[38;5;66;03m# noqa: E402\u001b[39;00m\n\u001b[1;32m     10\u001b[0m \u001b[38;5;66;03m# These are imported as part of the API\u001b[39;00m\n",
      "File \u001b[0;32m/opt/anaconda3/lib/python3.12/site-packages/spacy/errors.py:3\u001b[0m\n\u001b[1;32m      1\u001b[0m \u001b[38;5;28;01mimport\u001b[39;00m \u001b[38;5;21;01mwarnings\u001b[39;00m\n\u001b[0;32m----> 3\u001b[0m \u001b[38;5;28;01mfrom\u001b[39;00m \u001b[38;5;21;01m.\u001b[39;00m\u001b[38;5;21;01mcompat\u001b[39;00m \u001b[38;5;28;01mimport\u001b[39;00m Literal\n\u001b[1;32m      6\u001b[0m \u001b[38;5;28;01mclass\u001b[39;00m \u001b[38;5;21;01mErrorsWithCodes\u001b[39;00m(\u001b[38;5;28mtype\u001b[39m):\n\u001b[1;32m      7\u001b[0m     \u001b[38;5;28;01mdef\u001b[39;00m \u001b[38;5;21m__getattribute__\u001b[39m(\u001b[38;5;28mself\u001b[39m, code):\n",
      "File \u001b[0;32m/opt/anaconda3/lib/python3.12/site-packages/spacy/compat.py:4\u001b[0m\n\u001b[1;32m      1\u001b[0m \u001b[38;5;124;03m\"\"\"Helpers for Python and platform compatibility.\"\"\"\u001b[39;00m\n\u001b[1;32m      2\u001b[0m \u001b[38;5;28;01mimport\u001b[39;00m \u001b[38;5;21;01msys\u001b[39;00m\n\u001b[0;32m----> 4\u001b[0m \u001b[38;5;28;01mfrom\u001b[39;00m \u001b[38;5;21;01mthinc\u001b[39;00m\u001b[38;5;21;01m.\u001b[39;00m\u001b[38;5;21;01mutil\u001b[39;00m \u001b[38;5;28;01mimport\u001b[39;00m copy_array\n\u001b[1;32m      6\u001b[0m \u001b[38;5;28;01mtry\u001b[39;00m:\n\u001b[1;32m      7\u001b[0m     \u001b[38;5;28;01mimport\u001b[39;00m \u001b[38;5;21;01mcPickle\u001b[39;00m \u001b[38;5;28;01mas\u001b[39;00m \u001b[38;5;21;01mpickle\u001b[39;00m\n",
      "File \u001b[0;32m/opt/anaconda3/lib/python3.12/site-packages/thinc/__init__.py:5\u001b[0m\n\u001b[1;32m      2\u001b[0m \u001b[38;5;28;01mimport\u001b[39;00m \u001b[38;5;21;01mnumpy\u001b[39;00m\n\u001b[1;32m      4\u001b[0m \u001b[38;5;28;01mfrom\u001b[39;00m \u001b[38;5;21;01m.\u001b[39;00m\u001b[38;5;21;01mabout\u001b[39;00m \u001b[38;5;28;01mimport\u001b[39;00m __version__\n\u001b[0;32m----> 5\u001b[0m \u001b[38;5;28;01mfrom\u001b[39;00m \u001b[38;5;21;01m.\u001b[39;00m\u001b[38;5;21;01mconfig\u001b[39;00m \u001b[38;5;28;01mimport\u001b[39;00m registry\n\u001b[1;32m      7\u001b[0m \u001b[38;5;66;03m# fmt: off\u001b[39;00m\n\u001b[1;32m      8\u001b[0m __all__ \u001b[38;5;241m=\u001b[39m [\n\u001b[1;32m      9\u001b[0m     \u001b[38;5;124m\"\u001b[39m\u001b[38;5;124mregistry\u001b[39m\u001b[38;5;124m\"\u001b[39m,\n\u001b[1;32m     10\u001b[0m     \u001b[38;5;124m\"\u001b[39m\u001b[38;5;124m__version__\u001b[39m\u001b[38;5;124m\"\u001b[39m,\n\u001b[1;32m     11\u001b[0m ]\n",
      "File \u001b[0;32m/opt/anaconda3/lib/python3.12/site-packages/thinc/config.py:5\u001b[0m\n\u001b[1;32m      2\u001b[0m \u001b[38;5;28;01mimport\u001b[39;00m \u001b[38;5;21;01mconfection\u001b[39;00m\n\u001b[1;32m      3\u001b[0m \u001b[38;5;28;01mfrom\u001b[39;00m \u001b[38;5;21;01mconfection\u001b[39;00m \u001b[38;5;28;01mimport\u001b[39;00m VARIABLE_RE, Config, ConfigValidationError, Promise\n\u001b[0;32m----> 5\u001b[0m \u001b[38;5;28;01mfrom\u001b[39;00m \u001b[38;5;21;01m.\u001b[39;00m\u001b[38;5;21;01mtypes\u001b[39;00m \u001b[38;5;28;01mimport\u001b[39;00m Decorator\n\u001b[1;32m      8\u001b[0m \u001b[38;5;28;01mclass\u001b[39;00m \u001b[38;5;21;01mregistry\u001b[39;00m(confection\u001b[38;5;241m.\u001b[39mregistry):\n\u001b[1;32m      9\u001b[0m     \u001b[38;5;66;03m# fmt: off\u001b[39;00m\n\u001b[1;32m     10\u001b[0m     optimizers: Decorator \u001b[38;5;241m=\u001b[39m catalogue\u001b[38;5;241m.\u001b[39mcreate(\u001b[38;5;124m\"\u001b[39m\u001b[38;5;124mthinc\u001b[39m\u001b[38;5;124m\"\u001b[39m, \u001b[38;5;124m\"\u001b[39m\u001b[38;5;124moptimizers\u001b[39m\u001b[38;5;124m\"\u001b[39m, entry_points\u001b[38;5;241m=\u001b[39m\u001b[38;5;28;01mTrue\u001b[39;00m)\n",
      "File \u001b[0;32m/opt/anaconda3/lib/python3.12/site-packages/thinc/types.py:27\u001b[0m\n\u001b[1;32m     24\u001b[0m \u001b[38;5;28;01mfrom\u001b[39;00m \u001b[38;5;21;01mpydantic\u001b[39;00m \u001b[38;5;28;01mimport\u001b[39;00m GetCoreSchemaHandler\n\u001b[1;32m     25\u001b[0m \u001b[38;5;28;01mfrom\u001b[39;00m \u001b[38;5;21;01mpydantic_core\u001b[39;00m \u001b[38;5;28;01mimport\u001b[39;00m core_schema\n\u001b[0;32m---> 27\u001b[0m \u001b[38;5;28;01mfrom\u001b[39;00m \u001b[38;5;21;01m.\u001b[39;00m\u001b[38;5;21;01mcompat\u001b[39;00m \u001b[38;5;28;01mimport\u001b[39;00m cupy, has_cupy\n\u001b[1;32m     29\u001b[0m \u001b[38;5;28;01mif\u001b[39;00m has_cupy:\n\u001b[1;32m     30\u001b[0m     get_array_module \u001b[38;5;241m=\u001b[39m cupy\u001b[38;5;241m.\u001b[39mget_array_module\n",
      "File \u001b[0;32m/opt/anaconda3/lib/python3.12/site-packages/thinc/compat.py:99\u001b[0m\n\u001b[1;32m     95\u001b[0m has_mxnet \u001b[38;5;241m=\u001b[39m \u001b[38;5;28;01mFalse\u001b[39;00m\n\u001b[1;32m     98\u001b[0m \u001b[38;5;28;01mtry\u001b[39;00m:\n\u001b[0;32m---> 99\u001b[0m     \u001b[38;5;28;01mimport\u001b[39;00m \u001b[38;5;21;01mh5py\u001b[39;00m\n\u001b[1;32m    100\u001b[0m \u001b[38;5;28;01mexcept\u001b[39;00m \u001b[38;5;167;01mImportError\u001b[39;00m:  \u001b[38;5;66;03m# pragma: no cover\u001b[39;00m\n\u001b[1;32m    101\u001b[0m     h5py \u001b[38;5;241m=\u001b[39m \u001b[38;5;28;01mNone\u001b[39;00m\n",
      "File \u001b[0;32m/opt/anaconda3/lib/python3.12/site-packages/h5py/__init__.py:45\u001b[0m\n\u001b[1;32m     36\u001b[0m     _warn((\u001b[38;5;124m\"\u001b[39m\u001b[38;5;124mh5py is running against HDF5 \u001b[39m\u001b[38;5;132;01m{0}\u001b[39;00m\u001b[38;5;124m when it was built against \u001b[39m\u001b[38;5;132;01m{1}\u001b[39;00m\u001b[38;5;124m, \u001b[39m\u001b[38;5;124m\"\u001b[39m\n\u001b[1;32m     37\u001b[0m            \u001b[38;5;124m\"\u001b[39m\u001b[38;5;124mthis may cause problems\u001b[39m\u001b[38;5;124m\"\u001b[39m)\u001b[38;5;241m.\u001b[39mformat(\n\u001b[1;32m     38\u001b[0m             \u001b[38;5;124m'\u001b[39m\u001b[38;5;132;01m{0}\u001b[39;00m\u001b[38;5;124m.\u001b[39m\u001b[38;5;132;01m{1}\u001b[39;00m\u001b[38;5;124m.\u001b[39m\u001b[38;5;132;01m{2}\u001b[39;00m\u001b[38;5;124m'\u001b[39m\u001b[38;5;241m.\u001b[39mformat(\u001b[38;5;241m*\u001b[39mversion\u001b[38;5;241m.\u001b[39mhdf5_version_tuple),\n\u001b[1;32m     39\u001b[0m             \u001b[38;5;124m'\u001b[39m\u001b[38;5;132;01m{0}\u001b[39;00m\u001b[38;5;124m.\u001b[39m\u001b[38;5;132;01m{1}\u001b[39;00m\u001b[38;5;124m.\u001b[39m\u001b[38;5;132;01m{2}\u001b[39;00m\u001b[38;5;124m'\u001b[39m\u001b[38;5;241m.\u001b[39mformat(\u001b[38;5;241m*\u001b[39mversion\u001b[38;5;241m.\u001b[39mhdf5_built_version_tuple)\n\u001b[1;32m     40\u001b[0m     ))\n\u001b[1;32m     43\u001b[0m _errors\u001b[38;5;241m.\u001b[39msilence_errors()\n\u001b[0;32m---> 45\u001b[0m \u001b[38;5;28;01mfrom\u001b[39;00m \u001b[38;5;21;01m.\u001b[39;00m\u001b[38;5;21;01m_conv\u001b[39;00m \u001b[38;5;28;01mimport\u001b[39;00m register_converters \u001b[38;5;28;01mas\u001b[39;00m _register_converters, \\\n\u001b[1;32m     46\u001b[0m                    unregister_converters \u001b[38;5;28;01mas\u001b[39;00m _unregister_converters\n\u001b[1;32m     47\u001b[0m _register_converters()\n\u001b[1;32m     48\u001b[0m atexit\u001b[38;5;241m.\u001b[39mregister(_unregister_converters)\n",
      "File \u001b[0;32mh5py/_conv.pyx:1\u001b[0m, in \u001b[0;36minit h5py._conv\u001b[0;34m()\u001b[0m\n",
      "File \u001b[0;32mh5py/h5r.pyx:1\u001b[0m, in \u001b[0;36minit h5py.h5r\u001b[0;34m()\u001b[0m\n",
      "File \u001b[0;32mh5py/h5p.pyx:1\u001b[0m, in \u001b[0;36minit h5py.h5p\u001b[0;34m()\u001b[0m\n",
      "\u001b[0;31mValueError\u001b[0m: numpy.dtype size changed, may indicate binary incompatibility. Expected 96 from C header, got 88 from PyObject"
     ]
    }
   ],
   "source": [
    "# import our matcher class\n",
    "import spacy\n",
    "from spacy.matcher import Matcher"
   ]
  },
  {
   "cell_type": "code",
   "execution_count": null,
   "id": "979c56d9-9722-4ea4-be4e-675b9933fd11",
   "metadata": {},
   "outputs": [],
   "source": [
    "nlp = spacy.load(\"en_core_web_sm\")"
   ]
  },
  {
   "cell_type": "code",
   "execution_count": null,
   "id": "c8009543-1172-4cd3-b687-0ee02a268b43",
   "metadata": {},
   "outputs": [],
   "source": [
    "len(cleaned)"
   ]
  },
  {
   "cell_type": "code",
   "execution_count": null,
   "id": "a9f28cb0-857f-4a8e-b14b-5ce0533c9384",
   "metadata": {},
   "outputs": [],
   "source": [
    "cleaned[:1000]"
   ]
  },
  {
   "cell_type": "code",
   "execution_count": null,
   "id": "cb71aa68-6320-4961-9b96-ac93f8bd57e9",
   "metadata": {},
   "outputs": [],
   "source": [
    "texts = text.split('b\"Congressional Bills 118th Congress')"
   ]
  },
  {
   "cell_type": "code",
   "execution_count": null,
   "id": "616de42f-b99b-4172-be04-8d5b39e6f986",
   "metadata": {},
   "outputs": [],
   "source": [
    "len(texts)"
   ]
  },
  {
   "cell_type": "code",
   "execution_count": null,
   "id": "f782e347-9e35-4193-973e-dadf88d84e4e",
   "metadata": {},
   "outputs": [],
   "source": [
    "texts[3]"
   ]
  },
  {
   "cell_type": "code",
   "execution_count": null,
   "id": "5d091706-3b09-4ced-89e1-36870fdafd94",
   "metadata": {},
   "outputs": [],
   "source": [
    "# create an entity ruler to label gender terms as \"gender\", etc\n",
    "\n",
    "ruler = nlp.add_pipe(\"entity_ruler\", after=\"ner\")\n",
    "\n",
    "patterns = [\n",
    "                {\"label\": \"SEX\", \"pattern\": [{'LOWER': 'biological'}, {'LOWER': 'sex'}]},\n",
    "                {\"label\": \"SEX\", \"pattern\": 'biological'},\n",
    "                {\"label\": \"SEX\", \"pattern\": [{'LOWER': 'cross'}, {'IS_PUNCT': True}, {'LOWER': 'sex'}]},\n",
    "                {\"label\": \"SEX\", \"pattern\": [{'LOWER': 'opposite'}, {'LOWER': 'sex'}]},\n",
    "                {\"label\": \"SEX\", \"pattern\": 'sex'},\n",
    "                {\"label\": \"SEX\", \"pattern\": [{'LOWER': 'trans'}, {'IS_PUNCT': True}, {'LOWER': 'sexual'}]},\n",
    "                {\"label\": \"SEX\", \"pattern\": [{'LOWER': 'trans'}, {'LOWER': 'sexual'}]},\n",
    "                {\"label\": \"SEX\", \"pattern\": 'transsexual'},\n",
    "                {\"label\": \"GENDER\", \"pattern\": 'genderqueer'},\n",
    "                {\"label\": \"GENDER\", \"pattern\": 'gender'},\n",
    "                {\"label\": \"GENDER\", \"pattern\": 'transgender'},\n",
    "                {\"label\": \"GENDER\", \"pattern\": [{'LOWER': 'trans'}, {'IS_PUNCT': True}, {'LOWER': 'gender'}]},\n",
    "                {\"label\": \"GENDER\", \"pattern\": [{'LOWER': 'trans'}, {'LOWER': 'gender'}]},\n",
    "                {\"label\": \"GENDER\", \"pattern\": 'trans'},\n",
    "                {\"label\": \"GENDER\", \"pattern\": [{'LOWER': 'non'}, {'IS_PUNCT': True}, {'LOWER': 'binary'}]},\n",
    "                {\"label\": \"GENDER\", \"pattern\": [{'LOWER': 'non'}, {'LOWER': 'binary'}]},\n",
    "                {\"label\": \"GENDER\", \"pattern\": 'nonbinary'},\n",
    "                {\"label\": \"GENDER\", \"pattern\": 'male'},\n",
    "                {\"label\": \"GENDER\", \"pattern\": 'female'},\n",
    "                {\"label\": \"SEXUALITY\", \"pattern\": 'sexuality'},\n",
    "                {\"label\": \"SEXUALITY\", \"pattern\": 'orientation'},\n",
    "                {\"label\": \"SEXUALITY\", \"pattern\": 'lgbt'},\n",
    "                {\"label\": \"SEXUALITY\", \"pattern\": 'lgbt+'},\n",
    "                {\"label\": \"SEXUALITY\", \"pattern\": 'lgbtqia+'},\n",
    "                {\"label\": \"SEXUALITY\", \"pattern\": 'queer'}\n",
    "            ]\n",
    "\n",
    "ruler.add_patterns(patterns)"
   ]
  },
  {
   "cell_type": "code",
   "execution_count": null,
   "id": "7608f87e-5401-4093-8354-60d0575bb985",
   "metadata": {},
   "outputs": [],
   "source": [
    "nlp.pipe_names"
   ]
  },
  {
   "cell_type": "code",
   "execution_count": null,
   "id": "7424f5a0-764c-45f4-bc9c-4708efe66765",
   "metadata": {},
   "outputs": [],
   "source": [
    "texts = ''.join(texts)"
   ]
  },
  {
   "cell_type": "code",
   "execution_count": null,
   "id": "468e783d-f026-41b7-a4ce-02598f9e7d79",
   "metadata": {},
   "outputs": [],
   "source": [
    "len(texts)"
   ]
  },
  {
   "cell_type": "code",
   "execution_count": null,
   "id": "aa9bd193-197d-4a38-943d-bcd9fb262cc1",
   "metadata": {},
   "outputs": [],
   "source": []
  }
 ],
 "metadata": {
  "kernelspec": {
   "display_name": "Python 3 (ipykernel)",
   "language": "python",
   "name": "python3"
  },
  "language_info": {
   "codemirror_mode": {
    "name": "ipython",
    "version": 3
   },
   "file_extension": ".py",
   "mimetype": "text/x-python",
   "name": "python",
   "nbconvert_exporter": "python",
   "pygments_lexer": "ipython3",
   "version": "3.12.4"
  }
 },
 "nbformat": 4,
 "nbformat_minor": 5
}
