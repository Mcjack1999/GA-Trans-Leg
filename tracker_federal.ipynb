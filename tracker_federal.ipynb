{
 "cells": [
  {
   "cell_type": "code",
   "execution_count": 1,
   "id": "c467262f-ca3d-42e7-acbf-31c4666d0a46",
   "metadata": {},
   "outputs": [],
   "source": [
    "# import the following libraries for our web scraping project\n",
    "\n",
    "import requests # to make https requests\n",
    "from bs4 import BeautifulSoup # our web scraping library\n",
    "\n",
    "import pandas as pd # for making dataframe later"
   ]
  },
  {
   "cell_type": "code",
   "execution_count": 2,
   "id": "0cf51cca-7d24-42e1-932e-a98be0712621",
   "metadata": {},
   "outputs": [],
   "source": [
    "# save the data from the website as a \"soup\" object\n",
    "\n",
    "site = requests.get('https://translegislation.com/bills/2024/US') # gets the URL\n",
    "html_code = site.content # saves the HTML code\n",
    "soup = BeautifulSoup(html_code, 'lxml') # creates a soup object"
   ]
  },
  {
   "cell_type": "code",
   "execution_count": 3,
   "id": "c393673d-926b-4e9f-a4db-e13122faeceb",
   "metadata": {},
   "outputs": [],
   "source": [
    "# runs the loop on the bill cards\n",
    "bill_cards = soup.find_all('div', class_ ='css-4rck61')\n",
    "\n",
    "# creating empty lists to hold all of our data\n",
    "titles = []\n",
    "captions = []\n",
    "categories = []\n",
    "descriptions = []\n",
    "\n",
    "# extracting the data from the bill cards\n",
    "for item in bill_cards:\n",
    "    title = item.h3.text\n",
    "    category = item.find('span').text\n",
    "    caption = item.h2.text\n",
    "    if item.h2.text is not None:\n",
    "        description = item.h2.text\n",
    "    else:\n",
    "        description = 'No bill description'\n",
    "    \n",
    "    # adding the items to the empty lists\n",
    "    titles.append(title)\n",
    "    categories.append(category)\n",
    "    captions.append(caption)\n",
    "    descriptions.append(description)\n",
    "    # remember that \"legiscan_links\" is already saved as a list, so we don't have to create it here"
   ]
  },
  {
   "cell_type": "code",
   "execution_count": 4,
   "id": "b297397e-598d-4d61-b603-aa397ba135e9",
   "metadata": {},
   "outputs": [],
   "source": [
    "urls = []\n",
    "for item in bill_cards:\n",
    "    extension = 'https://translegislation.com/' + item.a['href']\n",
    "    urls.append(extension)\n",
    "\n",
    "# making a soup object of *every* page that is linked\n",
    "# this may take several seconds\n",
    "soups = []\n",
    "for item in urls:\n",
    "    site = requests.get(item)\n",
    "    html_code = site.content\n",
    "    soup = BeautifulSoup(html_code, 'lxml')\n",
    "    soups.append(soup)\n",
    "\n",
    "\n",
    "legiscan_links = []\n",
    "congress_links = []\n",
    "for item in soups:\n",
    "    # we are getting two links here, one to legiscan and one to the congress website\n",
    "    links = item.find_all('a', class_='chakra-link css-oga2ct')\n",
    "    anchor1 = links[0]['href'] # link to legiscan\n",
    "    legiscan_links.append(anchor1)\n",
    "    anchor2 = links[1]['href'] # link to congress\n",
    "    congress_links.append(anchor2)"
   ]
  },
  {
   "cell_type": "code",
   "execution_count": 5,
   "id": "2f8744eb-ddd2-457e-b84f-1d8d7712558a",
   "metadata": {},
   "outputs": [],
   "source": [
    "# creating a dataframe, with separate columns to hold each of our lists\n",
    "df24 = pd.DataFrame(\n",
    "    {'title': titles,\n",
    "     'caption': captions,\n",
    "     'category': categories,\n",
    "     'description': descriptions,\n",
    "     'url': urls,\n",
    "     'legiscan': legiscan_links,\n",
    "     'congress': congress_links\n",
    "    })"
   ]
  },
  {
   "cell_type": "code",
   "execution_count": 6,
   "id": "206313f8-52cb-497f-8e5b-8ae98a11c36a",
   "metadata": {},
   "outputs": [
    {
     "name": "stdout",
     "output_type": "stream",
     "text": [
      "<class 'pandas.core.frame.DataFrame'>\n",
      "RangeIndex: 87 entries, 0 to 86\n",
      "Data columns (total 7 columns):\n",
      " #   Column       Non-Null Count  Dtype \n",
      "---  ------       --------------  ----- \n",
      " 0   title        87 non-null     object\n",
      " 1   caption      87 non-null     object\n",
      " 2   category     87 non-null     object\n",
      " 3   description  87 non-null     object\n",
      " 4   url          87 non-null     object\n",
      " 5   legiscan     87 non-null     object\n",
      " 6   congress     87 non-null     object\n",
      "dtypes: object(7)\n",
      "memory usage: 4.9+ KB\n"
     ]
    }
   ],
   "source": [
    "df24.info()"
   ]
  },
  {
   "cell_type": "code",
   "execution_count": 7,
   "id": "a7861fa4-f2a8-41a9-b684-209339f41aa3",
   "metadata": {},
   "outputs": [
    {
     "data": {
      "text/html": [
       "<div>\n",
       "<style scoped>\n",
       "    .dataframe tbody tr th:only-of-type {\n",
       "        vertical-align: middle;\n",
       "    }\n",
       "\n",
       "    .dataframe tbody tr th {\n",
       "        vertical-align: top;\n",
       "    }\n",
       "\n",
       "    .dataframe thead th {\n",
       "        text-align: right;\n",
       "    }\n",
       "</style>\n",
       "<table border=\"1\" class=\"dataframe\">\n",
       "  <thead>\n",
       "    <tr style=\"text-align: right;\">\n",
       "      <th></th>\n",
       "      <th>title</th>\n",
       "      <th>caption</th>\n",
       "      <th>category</th>\n",
       "      <th>description</th>\n",
       "      <th>url</th>\n",
       "      <th>legiscan</th>\n",
       "      <th>congress</th>\n",
       "    </tr>\n",
       "  </thead>\n",
       "  <tbody>\n",
       "    <tr>\n",
       "      <th>0</th>\n",
       "      <td>US HB10075</td>\n",
       "      <td>Stopping the Mutilation of Children Act of 2024</td>\n",
       "      <td>HEALTHCARE</td>\n",
       "      <td>Stopping the Mutilation of Children Act of 2024</td>\n",
       "      <td>https://translegislation.com//bills/2024/US/HB...</td>\n",
       "      <td>https://legiscan.com/US/text/HB10075/id/3025659</td>\n",
       "      <td>https://www.congress.gov/bill/118th-congress/h...</td>\n",
       "    </tr>\n",
       "    <tr>\n",
       "      <th>1</th>\n",
       "      <td>US HB10186</td>\n",
       "      <td>Protecting Women’s Private Spaces Act</td>\n",
       "      <td>BIRTH CERTIFICATES</td>\n",
       "      <td>Protecting Women’s Private Spaces Act</td>\n",
       "      <td>https://translegislation.com//bills/2024/US/HB...</td>\n",
       "      <td>https://legiscan.com/US/text/HB10186/id/3029142</td>\n",
       "      <td>https://www.congress.gov/bill/118th-congress/h...</td>\n",
       "    </tr>\n",
       "    <tr>\n",
       "      <th>2</th>\n",
       "      <td>US HB10290</td>\n",
       "      <td>Stop the Invasion of Women’s Spaces Act</td>\n",
       "      <td>INCARCERATION</td>\n",
       "      <td>Stop the Invasion of Women’s Spaces Act</td>\n",
       "      <td>https://translegislation.com//bills/2024/US/HB...</td>\n",
       "      <td>https://legiscan.com/US/text/HB10290/id/3038024</td>\n",
       "      <td>https://www.congress.gov/bill/118th-congress/h...</td>\n",
       "    </tr>\n",
       "    <tr>\n",
       "      <th>3</th>\n",
       "      <td>US HB1064</td>\n",
       "      <td>Ensuring Military Readiness Act of 2023</td>\n",
       "      <td>MILITARY</td>\n",
       "      <td>Ensuring Military Readiness Act of 2023</td>\n",
       "      <td>https://translegislation.com//bills/2024/US/HB...</td>\n",
       "      <td>https://legiscan.com/US/text/HB1064/id/2737306</td>\n",
       "      <td>https://www.congress.gov/bill/118th-congress/h...</td>\n",
       "    </tr>\n",
       "    <tr>\n",
       "      <th>4</th>\n",
       "      <td>US HB1112</td>\n",
       "      <td>Ensuring Military Readiness Act of 2023</td>\n",
       "      <td>MILITARY</td>\n",
       "      <td>Ensuring Military Readiness Act of 2023</td>\n",
       "      <td>https://translegislation.com//bills/2024/US/HB...</td>\n",
       "      <td>https://legiscan.com/US/text/HB1112/id/2742708</td>\n",
       "      <td>https://www.congress.gov/bill/118th-congress/h...</td>\n",
       "    </tr>\n",
       "    <tr>\n",
       "      <th>...</th>\n",
       "      <td>...</td>\n",
       "      <td>...</td>\n",
       "      <td>...</td>\n",
       "      <td>...</td>\n",
       "      <td>...</td>\n",
       "      <td>...</td>\n",
       "      <td>...</td>\n",
       "    </tr>\n",
       "    <tr>\n",
       "      <th>82</th>\n",
       "      <td>US SJR90</td>\n",
       "      <td>A joint resolution providing for congressional...</td>\n",
       "      <td>HEALTHCARE</td>\n",
       "      <td>A joint resolution providing for congressional...</td>\n",
       "      <td>https://translegislation.com//bills/2024/US/SJR90</td>\n",
       "      <td>https://legiscan.com/US/text/SJR90/id/3003899</td>\n",
       "      <td>https://www.congress.gov/bill/118th-congress/s...</td>\n",
       "    </tr>\n",
       "    <tr>\n",
       "      <th>83</th>\n",
       "      <td>US SJR96</td>\n",
       "      <td>A joint resolution providing for congressional...</td>\n",
       "      <td>EDUCATION</td>\n",
       "      <td>A joint resolution providing for congressional...</td>\n",
       "      <td>https://translegislation.com//bills/2024/US/SJR96</td>\n",
       "      <td>https://legiscan.com/US/text/SJR96/id/3009679</td>\n",
       "      <td>https://www.congress.gov/bill/118th-congress/s...</td>\n",
       "    </tr>\n",
       "    <tr>\n",
       "      <th>84</th>\n",
       "      <td>US SR267</td>\n",
       "      <td>A resolution supporting the designation of the...</td>\n",
       "      <td>SPORTS</td>\n",
       "      <td>A resolution supporting the designation of the...</td>\n",
       "      <td>https://translegislation.com//bills/2024/US/SR267</td>\n",
       "      <td>https://legiscan.com/US/text/SR267/id/2831179</td>\n",
       "      <td>https://www.congress.gov/bill/118th-congress/s...</td>\n",
       "    </tr>\n",
       "    <tr>\n",
       "      <th>85</th>\n",
       "      <td>US SR53</td>\n",
       "      <td>A resolution establishing a Women's Bill of Ri...</td>\n",
       "      <td>CIVIL RIGHTS</td>\n",
       "      <td>A resolution establishing a Women's Bill of Ri...</td>\n",
       "      <td>https://translegislation.com//bills/2024/US/SR53</td>\n",
       "      <td>https://legiscan.com/US/text/SR53/id/2696872</td>\n",
       "      <td>https://www.congress.gov/bill/118th-congress/s...</td>\n",
       "    </tr>\n",
       "    <tr>\n",
       "      <th>86</th>\n",
       "      <td>US SR669</td>\n",
       "      <td>A resolution designating October 10, 2024, as ...</td>\n",
       "      <td>SPORTS</td>\n",
       "      <td>A resolution designating October 10, 2024, as ...</td>\n",
       "      <td>https://translegislation.com//bills/2024/US/SR669</td>\n",
       "      <td>https://legiscan.com/US/text/SR669/id/2998369</td>\n",
       "      <td>https://www.congress.gov/bill/118th-congress/s...</td>\n",
       "    </tr>\n",
       "  </tbody>\n",
       "</table>\n",
       "<p>87 rows × 7 columns</p>\n",
       "</div>"
      ],
      "text/plain": [
       "         title                                            caption  \\\n",
       "0   US HB10075    Stopping the Mutilation of Children Act of 2024   \n",
       "1   US HB10186              Protecting Women’s Private Spaces Act   \n",
       "2   US HB10290            Stop the Invasion of Women’s Spaces Act   \n",
       "3    US HB1064            Ensuring Military Readiness Act of 2023   \n",
       "4    US HB1112            Ensuring Military Readiness Act of 2023   \n",
       "..         ...                                                ...   \n",
       "82    US SJR90  A joint resolution providing for congressional...   \n",
       "83    US SJR96  A joint resolution providing for congressional...   \n",
       "84    US SR267  A resolution supporting the designation of the...   \n",
       "85     US SR53  A resolution establishing a Women's Bill of Ri...   \n",
       "86    US SR669  A resolution designating October 10, 2024, as ...   \n",
       "\n",
       "              category                                        description  \\\n",
       "0           HEALTHCARE    Stopping the Mutilation of Children Act of 2024   \n",
       "1   BIRTH CERTIFICATES              Protecting Women’s Private Spaces Act   \n",
       "2        INCARCERATION            Stop the Invasion of Women’s Spaces Act   \n",
       "3             MILITARY            Ensuring Military Readiness Act of 2023   \n",
       "4             MILITARY            Ensuring Military Readiness Act of 2023   \n",
       "..                 ...                                                ...   \n",
       "82          HEALTHCARE  A joint resolution providing for congressional...   \n",
       "83           EDUCATION  A joint resolution providing for congressional...   \n",
       "84              SPORTS  A resolution supporting the designation of the...   \n",
       "85        CIVIL RIGHTS  A resolution establishing a Women's Bill of Ri...   \n",
       "86              SPORTS  A resolution designating October 10, 2024, as ...   \n",
       "\n",
       "                                                  url  \\\n",
       "0   https://translegislation.com//bills/2024/US/HB...   \n",
       "1   https://translegislation.com//bills/2024/US/HB...   \n",
       "2   https://translegislation.com//bills/2024/US/HB...   \n",
       "3   https://translegislation.com//bills/2024/US/HB...   \n",
       "4   https://translegislation.com//bills/2024/US/HB...   \n",
       "..                                                ...   \n",
       "82  https://translegislation.com//bills/2024/US/SJR90   \n",
       "83  https://translegislation.com//bills/2024/US/SJR96   \n",
       "84  https://translegislation.com//bills/2024/US/SR267   \n",
       "85   https://translegislation.com//bills/2024/US/SR53   \n",
       "86  https://translegislation.com//bills/2024/US/SR669   \n",
       "\n",
       "                                           legiscan  \\\n",
       "0   https://legiscan.com/US/text/HB10075/id/3025659   \n",
       "1   https://legiscan.com/US/text/HB10186/id/3029142   \n",
       "2   https://legiscan.com/US/text/HB10290/id/3038024   \n",
       "3    https://legiscan.com/US/text/HB1064/id/2737306   \n",
       "4    https://legiscan.com/US/text/HB1112/id/2742708   \n",
       "..                                              ...   \n",
       "82    https://legiscan.com/US/text/SJR90/id/3003899   \n",
       "83    https://legiscan.com/US/text/SJR96/id/3009679   \n",
       "84    https://legiscan.com/US/text/SR267/id/2831179   \n",
       "85     https://legiscan.com/US/text/SR53/id/2696872   \n",
       "86    https://legiscan.com/US/text/SR669/id/2998369   \n",
       "\n",
       "                                             congress  \n",
       "0   https://www.congress.gov/bill/118th-congress/h...  \n",
       "1   https://www.congress.gov/bill/118th-congress/h...  \n",
       "2   https://www.congress.gov/bill/118th-congress/h...  \n",
       "3   https://www.congress.gov/bill/118th-congress/h...  \n",
       "4   https://www.congress.gov/bill/118th-congress/h...  \n",
       "..                                                ...  \n",
       "82  https://www.congress.gov/bill/118th-congress/s...  \n",
       "83  https://www.congress.gov/bill/118th-congress/s...  \n",
       "84  https://www.congress.gov/bill/118th-congress/s...  \n",
       "85  https://www.congress.gov/bill/118th-congress/s...  \n",
       "86  https://www.congress.gov/bill/118th-congress/s...  \n",
       "\n",
       "[87 rows x 7 columns]"
      ]
     },
     "execution_count": 7,
     "metadata": {},
     "output_type": "execute_result"
    }
   ],
   "source": [
    "df24"
   ]
  },
  {
   "cell_type": "code",
   "execution_count": 8,
   "id": "cb1fdc7c-7bea-4339-a831-ccfb749f28a1",
   "metadata": {},
   "outputs": [
    {
     "name": "stdout",
     "output_type": "stream",
     "text": [
      "Current Directory: /Users/michaelajackson/Desktop/Antitrans/GA-Trans-Leg\n"
     ]
    }
   ],
   "source": [
    "import os\n",
    "\n",
    "# Get the current working directory\n",
    "current_directory = os.getcwd()\n",
    "print(\"Current Directory:\", current_directory)"
   ]
  },
  {
   "cell_type": "code",
   "execution_count": 19,
   "id": "8e5bc636-bc7a-4384-af35-8da8115e170c",
   "metadata": {},
   "outputs": [],
   "source": [
    "df24.to_csv('/Users/michaelajackson/Desktop/Antitrans/GA-Trans-Leg/2024CSV')"
   ]
  },
  {
   "cell_type": "code",
   "execution_count": 21,
   "id": "8f1aa7cb-36a0-46c2-9723-c433db9c25f9",
   "metadata": {},
   "outputs": [],
   "source": [
    "#restarting the process for 2025\n",
    "site25 = requests.get('https://translegislation.com/bills/2025/US') # gets the URL\n",
    "html_code25 = site25.content # saves the HTML code\n",
    "soup25 = BeautifulSoup(html_code25, 'lxml') # creates a soup object"
   ]
  },
  {
   "cell_type": "code",
   "execution_count": 23,
   "id": "903893fd-265b-49a6-98c2-a8e33a0828be",
   "metadata": {},
   "outputs": [],
   "source": [
    "# runs the loop on the bill cards\n",
    "bill_cards25 = soup25.find_all('div', class_ ='css-4rck61')\n",
    "\n",
    "# creating empty lists to hold all of our data\n",
    "titles25 = []\n",
    "captions25 = []\n",
    "categories25 = []\n",
    "descriptions25 = []\n",
    "\n",
    "# extracting the data from the bill cards\n",
    "for item in bill_cards25:\n",
    "    title25 = item.h3.text\n",
    "    category25 = item.find('span').text\n",
    "    caption25 = item.h2.text\n",
    "    if item.h2.text is not None:\n",
    "        description25 = item.h2.text\n",
    "    else:\n",
    "        description25 = 'No bill description'\n",
    "    \n",
    "    # adding the items to the empty lists\n",
    "    titles25.append(title25)\n",
    "    categories25.append(category25)\n",
    "    captions25.append(caption25)\n",
    "    descriptions25.append(description25)\n",
    "    # remember that \"legiscan_links\" is already saved as a list, so we don't have to create it here"
   ]
  },
  {
   "cell_type": "code",
   "execution_count": 39,
   "id": "121f0ad2-919d-4259-a501-e16f5e4852be",
   "metadata": {},
   "outputs": [],
   "source": [
    "urls25 = []\n",
    "for item in bill_cards25:\n",
    "    extension25 = 'https://translegislation.com/' + item.a['href']\n",
    "    urls25.append(extension25)\n",
    "\n",
    "# making a soup object of *every* page that is linked\n",
    "# this may take several seconds\n",
    "soups25 = []\n",
    "for item in urls25:\n",
    "    site25 = requests.get(item)\n",
    "    html_code25 = site25.content\n",
    "    soup25 = BeautifulSoup(html_code25, 'lxml')\n",
    "    soups25.append(soup25)\n",
    "\n",
    "legiscan_links25 = []\n",
    "congress_links25 = []\n",
    "for item in soups25:\n",
    "    # we are getting two links here, one to legiscan and one to the congress website and adding if statement for bills with no links\n",
    "    links25 = item.find_all('a', class_='chakra-link css-oga2ct')\n",
    "    # Default values\n",
    "    legiscan_link = \"Not available\"\n",
    "    congress_link = \"Not available\"\n",
    "    \n",
    "    # Check each link\n",
    "    for link in links25:\n",
    "        href = link.get('href', '')\n",
    "        # If it’s a Legiscan link\n",
    "        if \"legiscan.com\" in href:\n",
    "            legiscan_link = href\n",
    "        # If it’s a Congress link\n",
    "        elif \"congress.gov\" in href:\n",
    "            congress_link = href\n",
    "\n",
    "    legiscan_links.append(legiscan_link)\n",
    "    congress_links.append(congress_link)"
   ]
  },
  {
   "cell_type": "code",
   "execution_count": 41,
   "id": "dc00f4f2-c782-4a85-83e9-0a81c559aff0",
   "metadata": {},
   "outputs": [
    {
     "name": "stdout",
     "output_type": "stream",
     "text": [
      "Titles: 87\n",
      "Captions: 87\n",
      "Categories: 87\n",
      "Descriptions: 87\n",
      "URLs: 87\n",
      "Legiscan links: 150\n",
      "Congress links: 150\n"
     ]
    }
   ],
   "source": [
    "print(\"Titles:\", len(titles))\n",
    "print(\"Captions:\", len(captions))\n",
    "print(\"Categories:\", len(categories))\n",
    "print(\"Descriptions:\", len(descriptions))\n",
    "print(\"URLs:\", len(urls))\n",
    "print(\"Legiscan links:\", len(legiscan_links))\n",
    "print(\"Congress links:\", len(congress_links))"
   ]
  },
  {
   "cell_type": "code",
   "execution_count": 31,
   "id": "546380a4-1f63-4c79-b69e-06e341f91505",
   "metadata": {},
   "outputs": [
    {
     "ename": "ValueError",
     "evalue": "All arrays must be of the same length",
     "output_type": "error",
     "traceback": [
      "\u001b[0;31m---------------------------------------------------------------------------\u001b[0m",
      "\u001b[0;31mValueError\u001b[0m                                Traceback (most recent call last)",
      "Cell \u001b[0;32mIn[31], line 2\u001b[0m\n\u001b[1;32m      1\u001b[0m \u001b[38;5;66;03m# creating a dataframe, with separate columns to hold each of our lists\u001b[39;00m\n\u001b[0;32m----> 2\u001b[0m df25 \u001b[38;5;241m=\u001b[39m pd\u001b[38;5;241m.\u001b[39mDataFrame(\n\u001b[1;32m      3\u001b[0m     {\u001b[38;5;124m'\u001b[39m\u001b[38;5;124mtitle\u001b[39m\u001b[38;5;124m'\u001b[39m: titles25,\n\u001b[1;32m      4\u001b[0m      \u001b[38;5;124m'\u001b[39m\u001b[38;5;124mcaption\u001b[39m\u001b[38;5;124m'\u001b[39m: captions25,\n\u001b[1;32m      5\u001b[0m      \u001b[38;5;124m'\u001b[39m\u001b[38;5;124mcategory\u001b[39m\u001b[38;5;124m'\u001b[39m: categories25,\n\u001b[1;32m      6\u001b[0m      \u001b[38;5;124m'\u001b[39m\u001b[38;5;124mdescription\u001b[39m\u001b[38;5;124m'\u001b[39m: descriptions25,\n\u001b[1;32m      7\u001b[0m      \u001b[38;5;124m'\u001b[39m\u001b[38;5;124murl\u001b[39m\u001b[38;5;124m'\u001b[39m: urls25,\n\u001b[1;32m      8\u001b[0m      \u001b[38;5;124m'\u001b[39m\u001b[38;5;124mlegiscan\u001b[39m\u001b[38;5;124m'\u001b[39m: legiscan_links25,\n\u001b[1;32m      9\u001b[0m      \u001b[38;5;124m'\u001b[39m\u001b[38;5;124mcongress\u001b[39m\u001b[38;5;124m'\u001b[39m: congress_links25\n\u001b[1;32m     10\u001b[0m     })\n",
      "File \u001b[0;32m/opt/anaconda3/lib/python3.12/site-packages/pandas/core/frame.py:778\u001b[0m, in \u001b[0;36mDataFrame.__init__\u001b[0;34m(self, data, index, columns, dtype, copy)\u001b[0m\n\u001b[1;32m    772\u001b[0m     mgr \u001b[38;5;241m=\u001b[39m \u001b[38;5;28mself\u001b[39m\u001b[38;5;241m.\u001b[39m_init_mgr(\n\u001b[1;32m    773\u001b[0m         data, axes\u001b[38;5;241m=\u001b[39m{\u001b[38;5;124m\"\u001b[39m\u001b[38;5;124mindex\u001b[39m\u001b[38;5;124m\"\u001b[39m: index, \u001b[38;5;124m\"\u001b[39m\u001b[38;5;124mcolumns\u001b[39m\u001b[38;5;124m\"\u001b[39m: columns}, dtype\u001b[38;5;241m=\u001b[39mdtype, copy\u001b[38;5;241m=\u001b[39mcopy\n\u001b[1;32m    774\u001b[0m     )\n\u001b[1;32m    776\u001b[0m \u001b[38;5;28;01melif\u001b[39;00m \u001b[38;5;28misinstance\u001b[39m(data, \u001b[38;5;28mdict\u001b[39m):\n\u001b[1;32m    777\u001b[0m     \u001b[38;5;66;03m# GH#38939 de facto copy defaults to False only in non-dict cases\u001b[39;00m\n\u001b[0;32m--> 778\u001b[0m     mgr \u001b[38;5;241m=\u001b[39m dict_to_mgr(data, index, columns, dtype\u001b[38;5;241m=\u001b[39mdtype, copy\u001b[38;5;241m=\u001b[39mcopy, typ\u001b[38;5;241m=\u001b[39mmanager)\n\u001b[1;32m    779\u001b[0m \u001b[38;5;28;01melif\u001b[39;00m \u001b[38;5;28misinstance\u001b[39m(data, ma\u001b[38;5;241m.\u001b[39mMaskedArray):\n\u001b[1;32m    780\u001b[0m     \u001b[38;5;28;01mfrom\u001b[39;00m \u001b[38;5;21;01mnumpy\u001b[39;00m\u001b[38;5;21;01m.\u001b[39;00m\u001b[38;5;21;01mma\u001b[39;00m \u001b[38;5;28;01mimport\u001b[39;00m mrecords\n",
      "File \u001b[0;32m/opt/anaconda3/lib/python3.12/site-packages/pandas/core/internals/construction.py:503\u001b[0m, in \u001b[0;36mdict_to_mgr\u001b[0;34m(data, index, columns, dtype, typ, copy)\u001b[0m\n\u001b[1;32m    499\u001b[0m     \u001b[38;5;28;01melse\u001b[39;00m:\n\u001b[1;32m    500\u001b[0m         \u001b[38;5;66;03m# dtype check to exclude e.g. range objects, scalars\u001b[39;00m\n\u001b[1;32m    501\u001b[0m         arrays \u001b[38;5;241m=\u001b[39m [x\u001b[38;5;241m.\u001b[39mcopy() \u001b[38;5;28;01mif\u001b[39;00m \u001b[38;5;28mhasattr\u001b[39m(x, \u001b[38;5;124m\"\u001b[39m\u001b[38;5;124mdtype\u001b[39m\u001b[38;5;124m\"\u001b[39m) \u001b[38;5;28;01melse\u001b[39;00m x \u001b[38;5;28;01mfor\u001b[39;00m x \u001b[38;5;129;01min\u001b[39;00m arrays]\n\u001b[0;32m--> 503\u001b[0m \u001b[38;5;28;01mreturn\u001b[39;00m arrays_to_mgr(arrays, columns, index, dtype\u001b[38;5;241m=\u001b[39mdtype, typ\u001b[38;5;241m=\u001b[39mtyp, consolidate\u001b[38;5;241m=\u001b[39mcopy)\n",
      "File \u001b[0;32m/opt/anaconda3/lib/python3.12/site-packages/pandas/core/internals/construction.py:114\u001b[0m, in \u001b[0;36marrays_to_mgr\u001b[0;34m(arrays, columns, index, dtype, verify_integrity, typ, consolidate)\u001b[0m\n\u001b[1;32m    111\u001b[0m \u001b[38;5;28;01mif\u001b[39;00m verify_integrity:\n\u001b[1;32m    112\u001b[0m     \u001b[38;5;66;03m# figure out the index, if necessary\u001b[39;00m\n\u001b[1;32m    113\u001b[0m     \u001b[38;5;28;01mif\u001b[39;00m index \u001b[38;5;129;01mis\u001b[39;00m \u001b[38;5;28;01mNone\u001b[39;00m:\n\u001b[0;32m--> 114\u001b[0m         index \u001b[38;5;241m=\u001b[39m _extract_index(arrays)\n\u001b[1;32m    115\u001b[0m     \u001b[38;5;28;01melse\u001b[39;00m:\n\u001b[1;32m    116\u001b[0m         index \u001b[38;5;241m=\u001b[39m ensure_index(index)\n",
      "File \u001b[0;32m/opt/anaconda3/lib/python3.12/site-packages/pandas/core/internals/construction.py:677\u001b[0m, in \u001b[0;36m_extract_index\u001b[0;34m(data)\u001b[0m\n\u001b[1;32m    675\u001b[0m lengths \u001b[38;5;241m=\u001b[39m \u001b[38;5;28mlist\u001b[39m(\u001b[38;5;28mset\u001b[39m(raw_lengths))\n\u001b[1;32m    676\u001b[0m \u001b[38;5;28;01mif\u001b[39;00m \u001b[38;5;28mlen\u001b[39m(lengths) \u001b[38;5;241m>\u001b[39m \u001b[38;5;241m1\u001b[39m:\n\u001b[0;32m--> 677\u001b[0m     \u001b[38;5;28;01mraise\u001b[39;00m \u001b[38;5;167;01mValueError\u001b[39;00m(\u001b[38;5;124m\"\u001b[39m\u001b[38;5;124mAll arrays must be of the same length\u001b[39m\u001b[38;5;124m\"\u001b[39m)\n\u001b[1;32m    679\u001b[0m \u001b[38;5;28;01mif\u001b[39;00m have_dicts:\n\u001b[1;32m    680\u001b[0m     \u001b[38;5;28;01mraise\u001b[39;00m \u001b[38;5;167;01mValueError\u001b[39;00m(\n\u001b[1;32m    681\u001b[0m         \u001b[38;5;124m\"\u001b[39m\u001b[38;5;124mMixing dicts with non-Series may lead to ambiguous ordering.\u001b[39m\u001b[38;5;124m\"\u001b[39m\n\u001b[1;32m    682\u001b[0m     )\n",
      "\u001b[0;31mValueError\u001b[0m: All arrays must be of the same length"
     ]
    }
   ],
   "source": [
    "# creating a dataframe, with separate columns to hold each of our lists\n",
    "df25 = pd.DataFrame(\n",
    "    {'title': titles25,\n",
    "     'caption': captions25,\n",
    "     'category': categories25,\n",
    "     'description': descriptions25,\n",
    "     'url': urls25,\n",
    "     'legiscan': legiscan_links25,\n",
    "     'congress': congress_links25\n",
    "    })"
   ]
  },
  {
   "cell_type": "code",
   "execution_count": null,
   "id": "dacc71db-42a3-4d6f-ae0b-2960ee7b8e4f",
   "metadata": {},
   "outputs": [],
   "source": [
    "df25.info()"
   ]
  },
  {
   "cell_type": "code",
   "execution_count": null,
   "id": "1174ba24-dc11-4cd0-976d-657d7a832fcc",
   "metadata": {},
   "outputs": [],
   "source": [
    "df25"
   ]
  },
  {
   "cell_type": "code",
   "execution_count": null,
   "id": "823568fb-b607-4de2-8829-beedb62655f8",
   "metadata": {},
   "outputs": [],
   "source": [
    "df24.to_csv('/Users/michaelajackson/Desktop/Antitrans/GA-Trans-Leg/2024CSV')"
   ]
  },
  {
   "cell_type": "code",
   "execution_count": null,
   "id": "ea66f4cd-d4a7-406a-9cde-6f868cdfb321",
   "metadata": {},
   "outputs": [],
   "source": [
    "#combining both dfs into 1\n",
    "df_combined = pd.concat([df, df25], ignore_index=True)"
   ]
  },
  {
   "cell_type": "code",
   "execution_count": null,
   "id": "329017ae-ffaf-41f7-a126-ab19a72a5531",
   "metadata": {},
   "outputs": [],
   "source": [
    "df_combined\n",
    "\n",
    "print(df_combined['congress'][12])"
   ]
  },
  {
   "cell_type": "code",
   "execution_count": null,
   "id": "401c5b1b-5cb1-446e-b4c0-bf34f61a8326",
   "metadata": {},
   "outputs": [],
   "source": [
    "#sorting values by session number in congress url\n",
    "df_combined.sort_values(by='session', ascending=False, inplace=True)\n",
    "df_combined.tail()"
   ]
  },
  {
   "cell_type": "code",
   "execution_count": null,
   "id": "bc4fe9c3-34c8-423d-bf2e-22aac2f2d1c4",
   "metadata": {},
   "outputs": [],
   "source": [
    "#Government website has bot blocks to the code in the block does not work\n",
    "\n",
    "# Create a new column with \"/all-info\" replaced by \"/text\"\n",
    "#df_combined['text'] = df_combined['congress'].str.replace('/all-info', '/text/is?format=txt', regex=False)\n",
    "\n",
    "#print(df_combined['text'][30])\n",
    "\n",
    "#df_combined.info()\n",
    "\n",
    "#df_combined.head()\n",
    "\n",
    "#creating function for extracting text from links in text cloumn\n",
    "\n",
    "#def extract_text(url):\n",
    "   # try:\n",
    "   #     sitetext = requests.get(url) # gets the URL\n",
    "   #     html_codetext = sitetext.content # saves the HTML code\n",
    "   #     souptext = BeautifulSoup(html_codetext, 'lxml') # creates a soup object\n",
    "\n",
    "# Find the <pre> tag containing the bill text\n",
    "     #   bill_text = souptext.find('pre', {'id': 'billTextContainer'})\n",
    "        \n",
    "      #  return bill_text.get_text(strip=True) if bill_text else \"Bill text not found\"\n",
    "  #  except requests.RequestException as e:\n",
    "      #  return f\"Error: {e}\"  # Handle request errors for sites with pdfs instead of html\n",
    "\n",
    "#df_combined['bill_text'] = df_combined['text'].apply(extract_text)"
   ]
  },
  {
   "cell_type": "code",
   "execution_count": null,
   "id": "df503c16-247c-4330-bde2-f9d73d49cb84",
   "metadata": {},
   "outputs": [],
   "source": [
    "#creating new column named \"session\" that pulls the congress session number (either 117 or 118) from the urls in congress column\n",
    "import re\n",
    "\n",
    "# Function to extract the Congress session from a URL\n",
    "def extract_session(url):\n",
    "    match = re.search(r'/(\\d+)(?:th)?-congress/', url)\n",
    "    return int(match.group(1)) if match else None"
   ]
  },
  {
   "cell_type": "code",
   "execution_count": null,
   "id": "6eb242ad-d08a-4ab9-a698-ae0eddfd821a",
   "metadata": {},
   "outputs": [],
   "source": [
    "df_combined['session'] = df_combined['congress'].apply(extract_session)"
   ]
  },
  {
   "cell_type": "code",
   "execution_count": null,
   "id": "4837c86a-c078-433b-967c-1d6ac9d15edf",
   "metadata": {},
   "outputs": [],
   "source": [
    "print(df_combined['session'].unique())"
   ]
  },
  {
   "cell_type": "code",
   "execution_count": null,
   "id": "ae558c46-35bb-4724-956c-f46929c79bd6",
   "metadata": {},
   "outputs": [],
   "source": [
    "df_combined.sample(20)"
   ]
  },
  {
   "cell_type": "code",
   "execution_count": null,
   "id": "f3d2606a-b905-4158-901a-3fc5cae92be3",
   "metadata": {},
   "outputs": [],
   "source": [
    "#renaming columns"
   ]
  },
  {
   "cell_type": "code",
   "execution_count": null,
   "id": "7ce6850f-5f8f-463a-8cf7-01712c451207",
   "metadata": {},
   "outputs": [],
   "source": [
    "#Creating new urls that link to the bills xml site\n",
    "\n",
    "# function that contains a loop to insert bill numbers\n",
    "# into the URL, then to grab the content and add to a new list\n",
    "\n"
   ]
  },
  {
   "cell_type": "code",
   "execution_count": null,
   "id": "065b89f9-6e7a-4f4e-b644-3c2062208d57",
   "metadata": {},
   "outputs": [],
   "source": [
    "#checking if function works\n"
   ]
  },
  {
   "cell_type": "code",
   "execution_count": null,
   "id": "3722d986-2490-44ef-b99c-6ad89018c98f",
   "metadata": {},
   "outputs": [],
   "source": []
  },
  {
   "cell_type": "code",
   "execution_count": null,
   "id": "9ebd6b09-5ee3-4afe-b4aa-02c0ac0ede03",
   "metadata": {},
   "outputs": [],
   "source": [
    "#Cleaning full text "
   ]
  },
  {
   "cell_type": "code",
   "execution_count": null,
   "id": "b6ff9fcd-435d-4f11-9876-7afb18921eef",
   "metadata": {},
   "outputs": [],
   "source": [
    "#applying to combined_df and creating a new full text column"
   ]
  }
 ],
 "metadata": {
  "kernelspec": {
   "display_name": "Python 3 (ipykernel)",
   "language": "python",
   "name": "python3"
  },
  "language_info": {
   "codemirror_mode": {
    "name": "ipython",
    "version": 3
   },
   "file_extension": ".py",
   "mimetype": "text/x-python",
   "name": "python",
   "nbconvert_exporter": "python",
   "pygments_lexer": "ipython3",
   "version": "3.12.4"
  }
 },
 "nbformat": 4,
 "nbformat_minor": 5
}
